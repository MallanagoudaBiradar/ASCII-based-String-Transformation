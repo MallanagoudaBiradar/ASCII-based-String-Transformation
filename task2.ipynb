{
 "cells": [
  {
   "cell_type": "code",
   "execution_count": 72,
   "metadata": {},
   "outputs": [
    {
     "name": "stdout",
     "output_type": "stream",
     "text": [
      "Final Answer: sERekS\n"
     ]
    }
   ],
   "source": [
    "s = \"sHQen}\"\n",
    "ascii_values = [ord(c) for c in s]\n",
    "new_string = list(s)\n",
    "\n",
    "for i in range(len(ascii_values)):\n",
    "    if i > 0 and ascii_values[i] % 2 == 1:\n",
    "        new_value = ascii_values[i - 1] - (ascii_values[i] % 5)\n",
    "        if new_value < 32 or new_value > 126:\n",
    "            new_value = 83\n",
    "        new_string[i - 1] = chr(new_value)\n",
    "        ascii_values[i - 1] = new_value\n",
    "    elif i < len(ascii_values) - 1 and ascii_values[i] % 2 == 0:\n",
    "        new_value = ascii_values[i + 1] + (ascii_values[i] % 7)\n",
    "        if new_value < 32 or new_value > 126:\n",
    "            new_value = 83\n",
    "        new_string[i + 1] = chr(new_value)\n",
    "        ascii_values[i + 1] = new_value\n",
    "\n",
    "final_string = ''.join(new_string)\n",
    "print(f\"Final Answer: {final_string}\")\n"
   ]
  }
 ],
 "metadata": {
  "kernelspec": {
   "display_name": "Python 3",
   "language": "python",
   "name": "python3"
  },
  "language_info": {
   "codemirror_mode": {
    "name": "ipython",
    "version": 3
   },
   "file_extension": ".py",
   "mimetype": "text/x-python",
   "name": "python",
   "nbconvert_exporter": "python",
   "pygments_lexer": "ipython3",
   "version": "3.11.7"
  }
 },
 "nbformat": 4,
 "nbformat_minor": 2
}
